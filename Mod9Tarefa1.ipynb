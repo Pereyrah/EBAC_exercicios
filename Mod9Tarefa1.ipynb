{
 "cells": [
  {
   "cell_type": "markdown",
   "metadata": {},
   "source": [
    "# Livro para consulta:\n",
    "- https://jakevdp.github.io/PythonDataScienceHandbook/03.08-aggregation-and-grouping.html\n",
    "- https://jakevdp.github.io/PythonDataScienceHandbook/03.09-pivot-tables.html\n",
    "    "
   ]
  },
  {
   "cell_type": "markdown",
   "metadata": {},
   "source": [
    "# 1. Importando bibliotecas <a name=\"import\"></a>\n",
    "\n",
    "<div style=\"text-align: right\"\n",
    "     \n",
    "[Voltar ao índice](#Contents)"
   ]
  },
  {
   "cell_type": "code",
   "execution_count": 72,
   "metadata": {
    "ExecuteTime": {
     "end_time": "2021-06-06T21:12:37.298706Z",
     "start_time": "2021-06-06T21:12:36.656481Z"
    }
   },
   "outputs": [],
   "source": [
    "# Imports\n",
    "\n",
    "import numpy as np\n",
    "import pandas as pd\n",
    "\n",
    "# Visualização\n",
    "import seaborn as sns\n",
    "import matplotlib.pyplot as plt\n",
    "\n",
    "%matplotlib inline"
   ]
  },
  {
   "cell_type": "markdown",
   "metadata": {},
   "source": [
    "## 2.0 Carregando o dataframe SINASC"
   ]
  },
  {
   "cell_type": "code",
   "execution_count": 73,
   "metadata": {
    "ExecuteTime": {
     "end_time": "2021-06-06T21:12:37.762376Z",
     "start_time": "2021-06-06T21:12:37.728383Z"
    },
    "scrolled": true
   },
   "outputs": [
    {
     "data": {
      "text/html": [
       "<div>\n",
       "<style scoped>\n",
       "    .dataframe tbody tr th:only-of-type {\n",
       "        vertical-align: middle;\n",
       "    }\n",
       "\n",
       "    .dataframe tbody tr th {\n",
       "        vertical-align: top;\n",
       "    }\n",
       "\n",
       "    .dataframe thead th {\n",
       "        text-align: right;\n",
       "    }\n",
       "</style>\n",
       "<table border=\"1\" class=\"dataframe\">\n",
       "  <thead>\n",
       "    <tr style=\"text-align: right;\">\n",
       "      <th></th>\n",
       "      <th>ORIGEM</th>\n",
       "      <th>CODESTAB</th>\n",
       "      <th>CODMUNNASC</th>\n",
       "      <th>LOCNASC</th>\n",
       "      <th>IDADEMAE</th>\n",
       "      <th>ESTCIVMAE</th>\n",
       "      <th>ESCMAE</th>\n",
       "      <th>CODOCUPMAE</th>\n",
       "      <th>QTDFILVIVO</th>\n",
       "      <th>QTDFILMORT</th>\n",
       "      <th>...</th>\n",
       "      <th>KOTELCHUCK</th>\n",
       "      <th>CONTADOR</th>\n",
       "      <th>munResStatus</th>\n",
       "      <th>munResTipo</th>\n",
       "      <th>munResNome</th>\n",
       "      <th>munResUf</th>\n",
       "      <th>munResLat</th>\n",
       "      <th>munResLon</th>\n",
       "      <th>munResAlt</th>\n",
       "      <th>munResArea</th>\n",
       "    </tr>\n",
       "  </thead>\n",
       "  <tbody>\n",
       "    <tr>\n",
       "      <th>0</th>\n",
       "      <td>1</td>\n",
       "      <td>2679477.0</td>\n",
       "      <td>110001</td>\n",
       "      <td>1</td>\n",
       "      <td>19</td>\n",
       "      <td>5.0</td>\n",
       "      <td>8 a 11 anos</td>\n",
       "      <td>NaN</td>\n",
       "      <td>0.0</td>\n",
       "      <td>0.0</td>\n",
       "      <td>...</td>\n",
       "      <td>5</td>\n",
       "      <td>1</td>\n",
       "      <td>ATIVO</td>\n",
       "      <td>MUNIC</td>\n",
       "      <td>Alta Floresta D'Oeste</td>\n",
       "      <td>Rondônia</td>\n",
       "      <td>-11.93554</td>\n",
       "      <td>-61.99982</td>\n",
       "      <td>338.0</td>\n",
       "      <td>7067.025</td>\n",
       "    </tr>\n",
       "    <tr>\n",
       "      <th>1</th>\n",
       "      <td>1</td>\n",
       "      <td>2679477.0</td>\n",
       "      <td>110001</td>\n",
       "      <td>1</td>\n",
       "      <td>29</td>\n",
       "      <td>2.0</td>\n",
       "      <td>8 a 11 anos</td>\n",
       "      <td>999992.0</td>\n",
       "      <td>1.0</td>\n",
       "      <td>0.0</td>\n",
       "      <td>...</td>\n",
       "      <td>5</td>\n",
       "      <td>2</td>\n",
       "      <td>ATIVO</td>\n",
       "      <td>MUNIC</td>\n",
       "      <td>Alta Floresta D'Oeste</td>\n",
       "      <td>Rondônia</td>\n",
       "      <td>-11.93554</td>\n",
       "      <td>-61.99982</td>\n",
       "      <td>338.0</td>\n",
       "      <td>7067.025</td>\n",
       "    </tr>\n",
       "    <tr>\n",
       "      <th>2</th>\n",
       "      <td>1</td>\n",
       "      <td>2679477.0</td>\n",
       "      <td>110001</td>\n",
       "      <td>1</td>\n",
       "      <td>37</td>\n",
       "      <td>9.0</td>\n",
       "      <td>8 a 11 anos</td>\n",
       "      <td>513205.0</td>\n",
       "      <td>2.0</td>\n",
       "      <td>0.0</td>\n",
       "      <td>...</td>\n",
       "      <td>5</td>\n",
       "      <td>3</td>\n",
       "      <td>ATIVO</td>\n",
       "      <td>MUNIC</td>\n",
       "      <td>Alta Floresta D'Oeste</td>\n",
       "      <td>Rondônia</td>\n",
       "      <td>-11.93554</td>\n",
       "      <td>-61.99982</td>\n",
       "      <td>338.0</td>\n",
       "      <td>7067.025</td>\n",
       "    </tr>\n",
       "    <tr>\n",
       "      <th>3</th>\n",
       "      <td>1</td>\n",
       "      <td>2516500.0</td>\n",
       "      <td>110001</td>\n",
       "      <td>1</td>\n",
       "      <td>30</td>\n",
       "      <td>5.0</td>\n",
       "      <td>12 anos ou mais</td>\n",
       "      <td>231205.0</td>\n",
       "      <td>0.0</td>\n",
       "      <td>0.0</td>\n",
       "      <td>...</td>\n",
       "      <td>4</td>\n",
       "      <td>4</td>\n",
       "      <td>ATIVO</td>\n",
       "      <td>MUNIC</td>\n",
       "      <td>Alto Alegre dos Parecis</td>\n",
       "      <td>Rondônia</td>\n",
       "      <td>-12.13178</td>\n",
       "      <td>-61.85308</td>\n",
       "      <td>397.0</td>\n",
       "      <td>3958.273</td>\n",
       "    </tr>\n",
       "    <tr>\n",
       "      <th>4</th>\n",
       "      <td>1</td>\n",
       "      <td>2516500.0</td>\n",
       "      <td>110001</td>\n",
       "      <td>1</td>\n",
       "      <td>30</td>\n",
       "      <td>2.0</td>\n",
       "      <td>8 a 11 anos</td>\n",
       "      <td>999992.0</td>\n",
       "      <td>1.0</td>\n",
       "      <td>0.0</td>\n",
       "      <td>...</td>\n",
       "      <td>5</td>\n",
       "      <td>5</td>\n",
       "      <td>ATIVO</td>\n",
       "      <td>MUNIC</td>\n",
       "      <td>Alta Floresta D'Oeste</td>\n",
       "      <td>Rondônia</td>\n",
       "      <td>-11.93554</td>\n",
       "      <td>-61.99982</td>\n",
       "      <td>338.0</td>\n",
       "      <td>7067.025</td>\n",
       "    </tr>\n",
       "  </tbody>\n",
       "</table>\n",
       "<p>5 rows × 69 columns</p>\n",
       "</div>"
      ],
      "text/plain": [
       "   ORIGEM   CODESTAB  CODMUNNASC  LOCNASC  IDADEMAE  ESTCIVMAE  \\\n",
       "0       1  2679477.0      110001        1        19        5.0   \n",
       "1       1  2679477.0      110001        1        29        2.0   \n",
       "2       1  2679477.0      110001        1        37        9.0   \n",
       "3       1  2516500.0      110001        1        30        5.0   \n",
       "4       1  2516500.0      110001        1        30        2.0   \n",
       "\n",
       "            ESCMAE  CODOCUPMAE  QTDFILVIVO  QTDFILMORT  ...  KOTELCHUCK  \\\n",
       "0      8 a 11 anos         NaN         0.0         0.0  ...           5   \n",
       "1      8 a 11 anos    999992.0         1.0         0.0  ...           5   \n",
       "2      8 a 11 anos    513205.0         2.0         0.0  ...           5   \n",
       "3  12 anos ou mais    231205.0         0.0         0.0  ...           4   \n",
       "4      8 a 11 anos    999992.0         1.0         0.0  ...           5   \n",
       "\n",
       "  CONTADOR munResStatus munResTipo               munResNome  munResUf  \\\n",
       "0        1        ATIVO      MUNIC    Alta Floresta D'Oeste  Rondônia   \n",
       "1        2        ATIVO      MUNIC    Alta Floresta D'Oeste  Rondônia   \n",
       "2        3        ATIVO      MUNIC    Alta Floresta D'Oeste  Rondônia   \n",
       "3        4        ATIVO      MUNIC  Alto Alegre dos Parecis  Rondônia   \n",
       "4        5        ATIVO      MUNIC    Alta Floresta D'Oeste  Rondônia   \n",
       "\n",
       "   munResLat munResLon  munResAlt  munResArea  \n",
       "0  -11.93554 -61.99982      338.0    7067.025  \n",
       "1  -11.93554 -61.99982      338.0    7067.025  \n",
       "2  -11.93554 -61.99982      338.0    7067.025  \n",
       "3  -12.13178 -61.85308      397.0    3958.273  \n",
       "4  -11.93554 -61.99982      338.0    7067.025  \n",
       "\n",
       "[5 rows x 69 columns]"
      ]
     },
     "execution_count": 73,
     "metadata": {},
     "output_type": "execute_result"
    }
   ],
   "source": [
    "# Carrega o dataset\n",
    "# Amostra de Dados\n",
    "sinasc_raw = pd.read_csv('SINASC_RO_2019.csv')\n",
    "sinasc_raw.head()"
   ]
  },
  {
   "cell_type": "code",
   "execution_count": 74,
   "metadata": {},
   "outputs": [
    {
     "data": {
      "text/plain": [
       "(27028, 69)"
      ]
     },
     "execution_count": 74,
     "metadata": {},
     "output_type": "execute_result"
    }
   ],
   "source": [
    "# Shape \n",
    "sinasc_raw.shape"
   ]
  },
  {
   "cell_type": "code",
   "execution_count": 75,
   "metadata": {},
   "outputs": [
    {
     "data": {
      "text/plain": [
       "Index(['ORIGEM', 'CODESTAB', 'CODMUNNASC', 'LOCNASC', 'IDADEMAE', 'ESTCIVMAE',\n",
       "       'ESCMAE', 'CODOCUPMAE', 'QTDFILVIVO', 'QTDFILMORT', 'CODMUNRES',\n",
       "       'GESTACAO', 'GRAVIDEZ', 'PARTO', 'CONSULTAS', 'DTNASC', 'HORANASC',\n",
       "       'SEXO', 'APGAR1', 'APGAR5', 'RACACOR', 'PESO', 'IDANOMAL', 'DTCADASTRO',\n",
       "       'CODANOMAL', 'NUMEROLOTE', 'VERSAOSIST', 'DTRECEBIM', 'DIFDATA',\n",
       "       'DTRECORIGA', 'NATURALMAE', 'CODMUNNATU', 'CODUFNATU', 'ESCMAE2010',\n",
       "       'SERIESCMAE', 'DTNASCMAE', 'RACACORMAE', 'QTDGESTANT', 'QTDPARTNOR',\n",
       "       'QTDPARTCES', 'IDADEPAI', 'DTULTMENST', 'SEMAGESTAC', 'TPMETESTIM',\n",
       "       'CONSPRENAT', 'MESPRENAT', 'TPAPRESENT', 'STTRABPART', 'STCESPARTO',\n",
       "       'TPNASCASSI', 'TPFUNCRESP', 'TPDOCRESP', 'DTDECLARAC', 'ESCMAEAGR1',\n",
       "       'STDNEPIDEM', 'STDNNOVA', 'CODPAISRES', 'TPROBSON', 'PARIDADE',\n",
       "       'KOTELCHUCK', 'CONTADOR', 'munResStatus', 'munResTipo', 'munResNome',\n",
       "       'munResUf', 'munResLat', 'munResLon', 'munResAlt', 'munResArea'],\n",
       "      dtype='object')"
      ]
     },
     "execution_count": 75,
     "metadata": {},
     "output_type": "execute_result"
    }
   ],
   "source": [
    "# Colunas\n",
    "sinasc_raw.columns"
   ]
  },
  {
   "cell_type": "code",
   "execution_count": 76,
   "metadata": {},
   "outputs": [
    {
     "name": "stdout",
     "output_type": "stream",
     "text": [
      "<class 'pandas.core.frame.DataFrame'>\n",
      "RangeIndex: 27028 entries, 0 to 27027\n",
      "Data columns (total 69 columns):\n",
      " #   Column        Non-Null Count  Dtype  \n",
      "---  ------        --------------  -----  \n",
      " 0   ORIGEM        27028 non-null  int64  \n",
      " 1   CODESTAB      26913 non-null  float64\n",
      " 2   CODMUNNASC    27028 non-null  int64  \n",
      " 3   LOCNASC       27028 non-null  int64  \n",
      " 4   IDADEMAE      27028 non-null  int64  \n",
      " 5   ESTCIVMAE     26711 non-null  float64\n",
      " 6   ESCMAE        26716 non-null  object \n",
      " 7   CODOCUPMAE    24121 non-null  float64\n",
      " 8   QTDFILVIVO    25455 non-null  float64\n",
      " 9   QTDFILMORT    24930 non-null  float64\n",
      " 10  CODMUNRES     27028 non-null  int64  \n",
      " 11  GESTACAO      25796 non-null  object \n",
      " 12  GRAVIDEZ      26949 non-null  object \n",
      " 13  PARTO         26979 non-null  object \n",
      " 14  CONSULTAS     27028 non-null  int64  \n",
      " 15  DTNASC        27028 non-null  object \n",
      " 16  HORANASC      27007 non-null  float64\n",
      " 17  SEXO          27024 non-null  object \n",
      " 18  APGAR1        26932 non-null  float64\n",
      " 19  APGAR5        26925 non-null  float64\n",
      " 20  RACACOR       26381 non-null  object \n",
      " 21  PESO          27028 non-null  int64  \n",
      " 22  IDANOMAL      26437 non-null  float64\n",
      " 23  DTCADASTRO    27028 non-null  object \n",
      " 24  CODANOMAL     214 non-null    object \n",
      " 25  NUMEROLOTE    27028 non-null  int64  \n",
      " 26  VERSAOSIST    27028 non-null  object \n",
      " 27  DTRECEBIM     27028 non-null  object \n",
      " 28  DIFDATA       27028 non-null  int64  \n",
      " 29  DTRECORIGA    0 non-null      float64\n",
      " 30  NATURALMAE    26730 non-null  float64\n",
      " 31  CODMUNNATU    26730 non-null  float64\n",
      " 32  CODUFNATU     26730 non-null  float64\n",
      " 33  ESCMAE2010    26779 non-null  float64\n",
      " 34  SERIESCMAE    14318 non-null  float64\n",
      " 35  DTNASCMAE     26988 non-null  float64\n",
      " 36  RACACORMAE    26367 non-null  float64\n",
      " 37  QTDGESTANT    25816 non-null  float64\n",
      " 38  QTDPARTNOR    25149 non-null  float64\n",
      " 39  QTDPARTCES    25237 non-null  float64\n",
      " 40  IDADEPAI      7607 non-null   float64\n",
      " 41  DTULTMENST    16956 non-null  float64\n",
      " 42  SEMAGESTAC    25790 non-null  float64\n",
      " 43  TPMETESTIM    25790 non-null  float64\n",
      " 44  CONSPRENAT    26098 non-null  float64\n",
      " 45  MESPRENAT     24161 non-null  float64\n",
      " 46  TPAPRESENT    26763 non-null  float64\n",
      " 47  STTRABPART    26081 non-null  float64\n",
      " 48  STCESPARTO    26281 non-null  float64\n",
      " 49  TPNASCASSI    26967 non-null  float64\n",
      " 50  TPFUNCRESP    26961 non-null  float64\n",
      " 51  TPDOCRESP     27014 non-null  float64\n",
      " 52  DTDECLARAC    26976 non-null  float64\n",
      " 53  ESCMAEAGR1    26779 non-null  float64\n",
      " 54  STDNEPIDEM    27028 non-null  int64  \n",
      " 55  STDNNOVA      27028 non-null  int64  \n",
      " 56  CODPAISRES    27028 non-null  int64  \n",
      " 57  TPROBSON      27028 non-null  int64  \n",
      " 58  PARIDADE      27028 non-null  int64  \n",
      " 59  KOTELCHUCK    27028 non-null  int64  \n",
      " 60  CONTADOR      27028 non-null  int64  \n",
      " 61  munResStatus  27028 non-null  object \n",
      " 62  munResTipo    27028 non-null  object \n",
      " 63  munResNome    27028 non-null  object \n",
      " 64  munResUf      27028 non-null  object \n",
      " 65  munResLat     27027 non-null  float64\n",
      " 66  munResLon     27027 non-null  float64\n",
      " 67  munResAlt     27027 non-null  float64\n",
      " 68  munResArea    27027 non-null  float64\n",
      "dtypes: float64(38), int64(16), object(15)\n",
      "memory usage: 14.2+ MB\n"
     ]
    }
   ],
   "source": [
    "# Info\n",
    "sinasc_raw.info()"
   ]
  },
  {
   "cell_type": "markdown",
   "metadata": {},
   "source": [
    "# Tarefa 1"
   ]
  },
  {
   "cell_type": "markdown",
   "metadata": {},
   "source": [
    "### 1. Idade media das mães e dos pais por município (coluna munResNome)\n"
   ]
  },
  {
   "cell_type": "code",
   "execution_count": 80,
   "metadata": {},
   "outputs": [
    {
     "data": {
      "text/html": [
       "<div>\n",
       "<style scoped>\n",
       "    .dataframe tbody tr th:only-of-type {\n",
       "        vertical-align: middle;\n",
       "    }\n",
       "\n",
       "    .dataframe tbody tr th {\n",
       "        vertical-align: top;\n",
       "    }\n",
       "\n",
       "    .dataframe thead th {\n",
       "        text-align: right;\n",
       "    }\n",
       "</style>\n",
       "<table border=\"1\" class=\"dataframe\">\n",
       "  <thead>\n",
       "    <tr style=\"text-align: right;\">\n",
       "      <th></th>\n",
       "      <th>IDADEMAE</th>\n",
       "      <th>IDADEPAI</th>\n",
       "    </tr>\n",
       "    <tr>\n",
       "      <th>munResNome</th>\n",
       "      <th></th>\n",
       "      <th></th>\n",
       "    </tr>\n",
       "  </thead>\n",
       "  <tbody>\n",
       "    <tr>\n",
       "      <th>Alta Floresta D'Oeste</th>\n",
       "      <td>25.991826</td>\n",
       "      <td>29.548701</td>\n",
       "    </tr>\n",
       "    <tr>\n",
       "      <th>Alto Alegre dos Parecis</th>\n",
       "      <td>24.844156</td>\n",
       "      <td>29.179104</td>\n",
       "    </tr>\n",
       "    <tr>\n",
       "      <th>Alto Paraíso</th>\n",
       "      <td>24.960177</td>\n",
       "      <td>28.833333</td>\n",
       "    </tr>\n",
       "    <tr>\n",
       "      <th>Alvorada D'Oeste</th>\n",
       "      <td>25.770732</td>\n",
       "      <td>30.757282</td>\n",
       "    </tr>\n",
       "    <tr>\n",
       "      <th>Ariquemes</th>\n",
       "      <td>25.607866</td>\n",
       "      <td>32.466667</td>\n",
       "    </tr>\n",
       "    <tr>\n",
       "      <th>Buritis</th>\n",
       "      <td>25.559177</td>\n",
       "      <td>30.812500</td>\n",
       "    </tr>\n",
       "    <tr>\n",
       "      <th>Cabixi</th>\n",
       "      <td>26.037500</td>\n",
       "      <td>34.333333</td>\n",
       "    </tr>\n",
       "    <tr>\n",
       "      <th>Cacaulândia</th>\n",
       "      <td>25.546667</td>\n",
       "      <td>36.333333</td>\n",
       "    </tr>\n",
       "    <tr>\n",
       "      <th>Cacoal</th>\n",
       "      <td>26.890102</td>\n",
       "      <td>30.931854</td>\n",
       "    </tr>\n",
       "    <tr>\n",
       "      <th>Campo Novo de Rondônia</th>\n",
       "      <td>24.825301</td>\n",
       "      <td>30.500000</td>\n",
       "    </tr>\n",
       "    <tr>\n",
       "      <th>Candeias do Jamari</th>\n",
       "      <td>25.243323</td>\n",
       "      <td>29.894737</td>\n",
       "    </tr>\n",
       "    <tr>\n",
       "      <th>Castanheiras</th>\n",
       "      <td>27.281250</td>\n",
       "      <td>30.392857</td>\n",
       "    </tr>\n",
       "    <tr>\n",
       "      <th>Cerejeiras</th>\n",
       "      <td>27.240506</td>\n",
       "      <td>31.652778</td>\n",
       "    </tr>\n",
       "    <tr>\n",
       "      <th>Chupinguaia</th>\n",
       "      <td>25.333333</td>\n",
       "      <td>29.629630</td>\n",
       "    </tr>\n",
       "    <tr>\n",
       "      <th>Colorado do Oeste</th>\n",
       "      <td>27.602804</td>\n",
       "      <td>34.354839</td>\n",
       "    </tr>\n",
       "    <tr>\n",
       "      <th>Corumbiara</th>\n",
       "      <td>24.716535</td>\n",
       "      <td>32.470588</td>\n",
       "    </tr>\n",
       "    <tr>\n",
       "      <th>Costa Marques</th>\n",
       "      <td>24.412017</td>\n",
       "      <td>30.613636</td>\n",
       "    </tr>\n",
       "    <tr>\n",
       "      <th>Cujubim</th>\n",
       "      <td>24.482927</td>\n",
       "      <td>31.400000</td>\n",
       "    </tr>\n",
       "    <tr>\n",
       "      <th>Espigão D'Oeste</th>\n",
       "      <td>26.093333</td>\n",
       "      <td>31.198113</td>\n",
       "    </tr>\n",
       "    <tr>\n",
       "      <th>Governador Jorge Teixeira</th>\n",
       "      <td>24.401786</td>\n",
       "      <td>29.222222</td>\n",
       "    </tr>\n",
       "    <tr>\n",
       "      <th>Guajará-Mirim</th>\n",
       "      <td>25.462228</td>\n",
       "      <td>30.470588</td>\n",
       "    </tr>\n",
       "    <tr>\n",
       "      <th>Itapuã do Oeste</th>\n",
       "      <td>26.064220</td>\n",
       "      <td>42.500000</td>\n",
       "    </tr>\n",
       "    <tr>\n",
       "      <th>Jaru</th>\n",
       "      <td>25.982974</td>\n",
       "      <td>32.197183</td>\n",
       "    </tr>\n",
       "    <tr>\n",
       "      <th>Ji-Paraná</th>\n",
       "      <td>26.361137</td>\n",
       "      <td>31.132239</td>\n",
       "    </tr>\n",
       "    <tr>\n",
       "      <th>Machadinho D'Oeste</th>\n",
       "      <td>25.480000</td>\n",
       "      <td>31.326923</td>\n",
       "    </tr>\n",
       "    <tr>\n",
       "      <th>Ministro Andreazza</th>\n",
       "      <td>27.904762</td>\n",
       "      <td>33.849315</td>\n",
       "    </tr>\n",
       "    <tr>\n",
       "      <th>Mirante da Serra</th>\n",
       "      <td>26.304878</td>\n",
       "      <td>32.154762</td>\n",
       "    </tr>\n",
       "    <tr>\n",
       "      <th>Monte Negro</th>\n",
       "      <td>25.648241</td>\n",
       "      <td>34.678571</td>\n",
       "    </tr>\n",
       "    <tr>\n",
       "      <th>Município ignorado - RO</th>\n",
       "      <td>24.000000</td>\n",
       "      <td>22.000000</td>\n",
       "    </tr>\n",
       "    <tr>\n",
       "      <th>Nova Brasilândia D'Oeste</th>\n",
       "      <td>26.222222</td>\n",
       "      <td>30.520833</td>\n",
       "    </tr>\n",
       "    <tr>\n",
       "      <th>Nova Mamoré</th>\n",
       "      <td>25.326389</td>\n",
       "      <td>31.692308</td>\n",
       "    </tr>\n",
       "    <tr>\n",
       "      <th>Nova União</th>\n",
       "      <td>26.894231</td>\n",
       "      <td>31.371429</td>\n",
       "    </tr>\n",
       "    <tr>\n",
       "      <th>Novo Horizonte do Oeste</th>\n",
       "      <td>26.938776</td>\n",
       "      <td>31.588235</td>\n",
       "    </tr>\n",
       "    <tr>\n",
       "      <th>Ouro Preto do Oeste</th>\n",
       "      <td>26.375594</td>\n",
       "      <td>31.233244</td>\n",
       "    </tr>\n",
       "    <tr>\n",
       "      <th>Parecis</th>\n",
       "      <td>26.454545</td>\n",
       "      <td>32.473684</td>\n",
       "    </tr>\n",
       "    <tr>\n",
       "      <th>Pimenta Bueno</th>\n",
       "      <td>25.199675</td>\n",
       "      <td>29.745174</td>\n",
       "    </tr>\n",
       "    <tr>\n",
       "      <th>Pimenteiras do Oeste</th>\n",
       "      <td>25.075000</td>\n",
       "      <td>35.600000</td>\n",
       "    </tr>\n",
       "    <tr>\n",
       "      <th>Porto Velho</th>\n",
       "      <td>26.312670</td>\n",
       "      <td>32.352679</td>\n",
       "    </tr>\n",
       "    <tr>\n",
       "      <th>Presidente Médici</th>\n",
       "      <td>25.796053</td>\n",
       "      <td>30.150754</td>\n",
       "    </tr>\n",
       "    <tr>\n",
       "      <th>Primavera de Rondônia</th>\n",
       "      <td>27.023256</td>\n",
       "      <td>31.888889</td>\n",
       "    </tr>\n",
       "    <tr>\n",
       "      <th>Rio Crespo</th>\n",
       "      <td>26.660000</td>\n",
       "      <td>28.000000</td>\n",
       "    </tr>\n",
       "    <tr>\n",
       "      <th>Rolim de Moura</th>\n",
       "      <td>26.600863</td>\n",
       "      <td>30.360479</td>\n",
       "    </tr>\n",
       "    <tr>\n",
       "      <th>Santa Luzia D'Oeste</th>\n",
       "      <td>26.121212</td>\n",
       "      <td>30.703297</td>\n",
       "    </tr>\n",
       "    <tr>\n",
       "      <th>Seringueiras</th>\n",
       "      <td>24.910714</td>\n",
       "      <td>30.500000</td>\n",
       "    </tr>\n",
       "    <tr>\n",
       "      <th>São Felipe D'Oeste</th>\n",
       "      <td>26.481481</td>\n",
       "      <td>31.395833</td>\n",
       "    </tr>\n",
       "    <tr>\n",
       "      <th>São Francisco do Guaporé</th>\n",
       "      <td>25.660066</td>\n",
       "      <td>31.638889</td>\n",
       "    </tr>\n",
       "    <tr>\n",
       "      <th>São Miguel do Guaporé</th>\n",
       "      <td>25.926346</td>\n",
       "      <td>32.666667</td>\n",
       "    </tr>\n",
       "    <tr>\n",
       "      <th>Teixeirópolis</th>\n",
       "      <td>26.031250</td>\n",
       "      <td>31.500000</td>\n",
       "    </tr>\n",
       "    <tr>\n",
       "      <th>Theobroma</th>\n",
       "      <td>25.536082</td>\n",
       "      <td>30.083333</td>\n",
       "    </tr>\n",
       "    <tr>\n",
       "      <th>Urupá</th>\n",
       "      <td>26.688235</td>\n",
       "      <td>31.008929</td>\n",
       "    </tr>\n",
       "    <tr>\n",
       "      <th>Vale do Anari</th>\n",
       "      <td>26.096774</td>\n",
       "      <td>34.000000</td>\n",
       "    </tr>\n",
       "    <tr>\n",
       "      <th>Vale do Paraíso</th>\n",
       "      <td>25.679012</td>\n",
       "      <td>29.976744</td>\n",
       "    </tr>\n",
       "    <tr>\n",
       "      <th>Vilhena</th>\n",
       "      <td>26.433962</td>\n",
       "      <td>34.152941</td>\n",
       "    </tr>\n",
       "  </tbody>\n",
       "</table>\n",
       "</div>"
      ],
      "text/plain": [
       "                            IDADEMAE   IDADEPAI\n",
       "munResNome                                     \n",
       "Alta Floresta D'Oeste      25.991826  29.548701\n",
       "Alto Alegre dos Parecis    24.844156  29.179104\n",
       "Alto Paraíso               24.960177  28.833333\n",
       "Alvorada D'Oeste           25.770732  30.757282\n",
       "Ariquemes                  25.607866  32.466667\n",
       "Buritis                    25.559177  30.812500\n",
       "Cabixi                     26.037500  34.333333\n",
       "Cacaulândia                25.546667  36.333333\n",
       "Cacoal                     26.890102  30.931854\n",
       "Campo Novo de Rondônia     24.825301  30.500000\n",
       "Candeias do Jamari         25.243323  29.894737\n",
       "Castanheiras               27.281250  30.392857\n",
       "Cerejeiras                 27.240506  31.652778\n",
       "Chupinguaia                25.333333  29.629630\n",
       "Colorado do Oeste          27.602804  34.354839\n",
       "Corumbiara                 24.716535  32.470588\n",
       "Costa Marques              24.412017  30.613636\n",
       "Cujubim                    24.482927  31.400000\n",
       "Espigão D'Oeste            26.093333  31.198113\n",
       "Governador Jorge Teixeira  24.401786  29.222222\n",
       "Guajará-Mirim              25.462228  30.470588\n",
       "Itapuã do Oeste            26.064220  42.500000\n",
       "Jaru                       25.982974  32.197183\n",
       "Ji-Paraná                  26.361137  31.132239\n",
       "Machadinho D'Oeste         25.480000  31.326923\n",
       "Ministro Andreazza         27.904762  33.849315\n",
       "Mirante da Serra           26.304878  32.154762\n",
       "Monte Negro                25.648241  34.678571\n",
       "Município ignorado - RO    24.000000  22.000000\n",
       "Nova Brasilândia D'Oeste   26.222222  30.520833\n",
       "Nova Mamoré                25.326389  31.692308\n",
       "Nova União                 26.894231  31.371429\n",
       "Novo Horizonte do Oeste    26.938776  31.588235\n",
       "Ouro Preto do Oeste        26.375594  31.233244\n",
       "Parecis                    26.454545  32.473684\n",
       "Pimenta Bueno              25.199675  29.745174\n",
       "Pimenteiras do Oeste       25.075000  35.600000\n",
       "Porto Velho                26.312670  32.352679\n",
       "Presidente Médici          25.796053  30.150754\n",
       "Primavera de Rondônia      27.023256  31.888889\n",
       "Rio Crespo                 26.660000  28.000000\n",
       "Rolim de Moura             26.600863  30.360479\n",
       "Santa Luzia D'Oeste        26.121212  30.703297\n",
       "Seringueiras               24.910714  30.500000\n",
       "São Felipe D'Oeste         26.481481  31.395833\n",
       "São Francisco do Guaporé   25.660066  31.638889\n",
       "São Miguel do Guaporé      25.926346  32.666667\n",
       "Teixeirópolis              26.031250  31.500000\n",
       "Theobroma                  25.536082  30.083333\n",
       "Urupá                      26.688235  31.008929\n",
       "Vale do Anari              26.096774  34.000000\n",
       "Vale do Paraíso            25.679012  29.976744\n",
       "Vilhena                    26.433962  34.152941"
      ]
     },
     "execution_count": 80,
     "metadata": {},
     "output_type": "execute_result"
    }
   ],
   "source": [
    "sinasc1 = sinasc_raw[['munResNome','IDADEMAE', 'IDADEPAI']]\n",
    "sinasc_1 = sinasc1.drop(sinasc1[sinasc1['munResNome']=='Municipio ignorado - RO'].index)\n",
    "sinasc_1.groupby('munResNome').mean()"
   ]
  },
  {
   "cell_type": "markdown",
   "metadata": {},
   "source": [
    "### 2. Peso médio dos bebes por sexo que nasceram no dia do seu aniversário por faixas de escolaridade mae\n",
    "Ex: Você, aluna(o), nasceu no dia 10/01, então você precisa filtrar o conjunto de dados nessa data e calcular o peso médio dos bebês de cada sexo por faixa de escolaridade da mãe."
   ]
  },
  {
   "cell_type": "code",
   "execution_count": 87,
   "metadata": {},
   "outputs": [],
   "source": [
    "peso_aniversario = sinasc_raw[['PESO', 'DTNASC', 'SEXO','ESCMAE']]"
   ]
  },
  {
   "cell_type": "code",
   "execution_count": 88,
   "metadata": {},
   "outputs": [
    {
     "data": {
      "text/html": [
       "<div>\n",
       "<style scoped>\n",
       "    .dataframe tbody tr th:only-of-type {\n",
       "        vertical-align: middle;\n",
       "    }\n",
       "\n",
       "    .dataframe tbody tr th {\n",
       "        vertical-align: top;\n",
       "    }\n",
       "\n",
       "    .dataframe thead th {\n",
       "        text-align: right;\n",
       "    }\n",
       "</style>\n",
       "<table border=\"1\" class=\"dataframe\">\n",
       "  <thead>\n",
       "    <tr style=\"text-align: right;\">\n",
       "      <th></th>\n",
       "      <th></th>\n",
       "      <th></th>\n",
       "      <th>PESO</th>\n",
       "    </tr>\n",
       "    <tr>\n",
       "      <th>DTNASC</th>\n",
       "      <th>ESCMAE</th>\n",
       "      <th>SEXO</th>\n",
       "      <th></th>\n",
       "    </tr>\n",
       "  </thead>\n",
       "  <tbody>\n",
       "    <tr>\n",
       "      <th rowspan=\"7\" valign=\"top\">2019-06-19</th>\n",
       "      <th>1 a 3 anos</th>\n",
       "      <th>Masculino</th>\n",
       "      <td>1925.000000</td>\n",
       "    </tr>\n",
       "    <tr>\n",
       "      <th rowspan=\"2\" valign=\"top\">12 anos ou mais</th>\n",
       "      <th>Feminino</th>\n",
       "      <td>3092.750000</td>\n",
       "    </tr>\n",
       "    <tr>\n",
       "      <th>Masculino</th>\n",
       "      <td>3358.000000</td>\n",
       "    </tr>\n",
       "    <tr>\n",
       "      <th rowspan=\"2\" valign=\"top\">4 a 7 anos</th>\n",
       "      <th>Feminino</th>\n",
       "      <td>2976.250000</td>\n",
       "    </tr>\n",
       "    <tr>\n",
       "      <th>Masculino</th>\n",
       "      <td>3311.125000</td>\n",
       "    </tr>\n",
       "    <tr>\n",
       "      <th rowspan=\"2\" valign=\"top\">8 a 11 anos</th>\n",
       "      <th>Feminino</th>\n",
       "      <td>3284.542857</td>\n",
       "    </tr>\n",
       "    <tr>\n",
       "      <th>Masculino</th>\n",
       "      <td>3152.459459</td>\n",
       "    </tr>\n",
       "  </tbody>\n",
       "</table>\n",
       "</div>"
      ],
      "text/plain": [
       "                                             PESO\n",
       "DTNASC     ESCMAE          SEXO                  \n",
       "2019-06-19 1 a 3 anos      Masculino  1925.000000\n",
       "           12 anos ou mais Feminino   3092.750000\n",
       "                           Masculino  3358.000000\n",
       "           4 a 7 anos      Feminino   2976.250000\n",
       "                           Masculino  3311.125000\n",
       "           8 a 11 anos     Feminino   3284.542857\n",
       "                           Masculino  3152.459459"
      ]
     },
     "execution_count": 88,
     "metadata": {},
     "output_type": "execute_result"
    }
   ],
   "source": [
    "# Filtrando pelo dia 19/Junho\n",
    "peso_aniversario[peso_aniversario['DTNASC'] == '2019-06-19'].groupby(['DTNASC', 'ESCMAE', 'SEXO']).aggregate('mean')"
   ]
  },
  {
   "cell_type": "markdown",
   "metadata": {},
   "source": [
    "### 3. Qual o municipio que nasceu menos bebe em 2019?\n",
    "    - qual a idade media, maxima, minima das maes nesse municipio?\n",
    "    - qual a idade media, maxima, minima dos pais nesse municipio?"
   ]
  },
  {
   "cell_type": "code",
   "execution_count": 89,
   "metadata": {},
   "outputs": [],
   "source": [
    "sinasc_c = sinasc_raw[['IDADEMAE', 'IDADEPAI', 'munResNome', ]]\n",
    "mun_menos_nasc = sinasc_c.drop(sinasc_c[sinasc_c['munResNome']=='Município ignorado - RO'].index)"
   ]
  },
  {
   "cell_type": "code",
   "execution_count": 90,
   "metadata": {},
   "outputs": [
    {
     "data": {
      "text/plain": [
       "Castanheiras    32\n",
       "Name: munResNome, dtype: int64"
      ]
     },
     "execution_count": 90,
     "metadata": {},
     "output_type": "execute_result"
    }
   ],
   "source": [
    "# Município com menos nascimentos\n",
    "mun_menos_nasc = mun_menos_nasc.munResNome.value_counts().sort_values(ascending = True)[:1]\n",
    "mun_menos_nasc"
   ]
  },
  {
   "cell_type": "code",
   "execution_count": 92,
   "metadata": {},
   "outputs": [
    {
     "data": {
      "text/html": [
       "<div>\n",
       "<style scoped>\n",
       "    .dataframe tbody tr th:only-of-type {\n",
       "        vertical-align: middle;\n",
       "    }\n",
       "\n",
       "    .dataframe tbody tr th {\n",
       "        vertical-align: top;\n",
       "    }\n",
       "\n",
       "    .dataframe thead tr th {\n",
       "        text-align: left;\n",
       "    }\n",
       "\n",
       "    .dataframe thead tr:last-of-type th {\n",
       "        text-align: right;\n",
       "    }\n",
       "</style>\n",
       "<table border=\"1\" class=\"dataframe\">\n",
       "  <thead>\n",
       "    <tr>\n",
       "      <th></th>\n",
       "      <th colspan=\"3\" halign=\"left\">IDADEMAE</th>\n",
       "      <th colspan=\"3\" halign=\"left\">IDADEPAI</th>\n",
       "    </tr>\n",
       "    <tr>\n",
       "      <th></th>\n",
       "      <th>Máximo</th>\n",
       "      <th>Média</th>\n",
       "      <th>Mínimo</th>\n",
       "      <th>Máximo</th>\n",
       "      <th>Média</th>\n",
       "      <th>Mínimo</th>\n",
       "    </tr>\n",
       "    <tr>\n",
       "      <th>munResNome</th>\n",
       "      <th></th>\n",
       "      <th></th>\n",
       "      <th></th>\n",
       "      <th></th>\n",
       "      <th></th>\n",
       "      <th></th>\n",
       "    </tr>\n",
       "  </thead>\n",
       "  <tbody>\n",
       "    <tr>\n",
       "      <th>Castanheiras</th>\n",
       "      <td>39</td>\n",
       "      <td>27.28125</td>\n",
       "      <td>17</td>\n",
       "      <td>43.0</td>\n",
       "      <td>30.392857</td>\n",
       "      <td>17.0</td>\n",
       "    </tr>\n",
       "  </tbody>\n",
       "</table>\n",
       "</div>"
      ],
      "text/plain": [
       "             IDADEMAE                  IDADEPAI                  \n",
       "               Máximo     Média Mínimo   Máximo      Média Mínimo\n",
       "munResNome                                                       \n",
       "Castanheiras       39  27.28125     17     43.0  30.392857   17.0"
      ]
     },
     "execution_count": 92,
     "metadata": {},
     "output_type": "execute_result"
    }
   ],
   "source": [
    "# Montando a pivot table\n",
    "mun_menos_nasc = sinasc_raw['munResNome'][sinasc_raw['munResNome'] == 'Castanheiras']\n",
    "\n",
    "sinasc_raw.pivot_table(values = ['IDADEMAE', 'IDADEPAI'],\n",
    "                       index = mun_menos_nasc,\n",
    "                       aggfunc ={'IDADEMAE':[('Mínimo','min'),('Máximo','max'),('Média','mean')],\n",
    "                                 'IDADEPAI':[('Mínimo','min'),('Máximo','max'),('Média','mean')]})"
   ]
  },
  {
   "cell_type": "markdown",
   "metadata": {},
   "source": [
    "### 4. Qual o municipio que nasceu mais bebe no mês de março?\n",
    "    - qual a quantidade de filhos vivos media, maxima, minima nesse municipio?\n",
    "    - qual a idade media, maxima, minima dos pais nesse municipio?\n",
    "\n"
   ]
  },
  {
   "cell_type": "code",
   "execution_count": 93,
   "metadata": {},
   "outputs": [],
   "source": [
    "sinasc_3=sinasc_raw[['munResNome', 'QTDFILVIVO','IDADEMAE','IDADEPAI','DTNASC']]\n",
    "mun_maior_nasc = sinasc_3.drop(sinasc_3[sinasc_3['munResNome']=='Municipio ignorado -RO'].index)"
   ]
  },
  {
   "cell_type": "code",
   "execution_count": 94,
   "metadata": {},
   "outputs": [],
   "source": [
    "# Converte a coluna 'DTNASC' de string para data e hora\n",
    "mun_maior_nasc.loc[:,'DTNASC'] = pd.to_datetime(mun_maior_nasc['DTNASC'])"
   ]
  },
  {
   "cell_type": "code",
   "execution_count": 95,
   "metadata": {},
   "outputs": [],
   "source": [
    "mun_maior_nasc_2 = mun_maior_nasc.loc[(mun_maior_nasc['DTNASC'] >= '2019-03-01') & (mun_maior_nasc['DTNASC'] <= '2019-03-31')]"
   ]
  },
  {
   "cell_type": "code",
   "execution_count": 96,
   "metadata": {},
   "outputs": [
    {
     "data": {
      "text/plain": [
       "Porto Velho                  744\n",
       "Ji-Paraná                    188\n",
       "Vilhena                      148\n",
       "Ariquemes                    141\n",
       "Cacoal                       133\n",
       "Jaru                          80\n",
       "Guajará-Mirim                 75\n",
       "Rolim de Moura                69\n",
       "Ouro Preto do Oeste           67\n",
       "Pimenta Bueno                 62\n",
       "Buritis                       59\n",
       "Nova Mamoré                   53\n",
       "Machadinho D'Oeste            44\n",
       "Espigão D'Oeste               44\n",
       "São Miguel do Guaporé         41\n",
       "Candeias do Jamari            33\n",
       "São Francisco do Guaporé      31\n",
       "Alta Floresta D'Oeste         31\n",
       "Presidente Médici             29\n",
       "Costa Marques                 24\n",
       "Alto Paraíso                  22\n",
       "Alvorada D'Oeste              22\n",
       "Monte Negro                   20\n",
       "Nova Brasilândia D'Oeste      20\n",
       "Seringueiras                  19\n",
       "Colorado do Oeste             19\n",
       "Chupinguaia                   18\n",
       "Cujubim                       17\n",
       "Cerejeiras                    16\n",
       "Urupá                         14\n",
       "Vale do Paraíso               13\n",
       "Campo Novo de Rondônia        13\n",
       "Corumbiara                    12\n",
       "Vale do Anari                 11\n",
       "Governador Jorge Teixeira     10\n",
       "Alto Alegre dos Parecis       10\n",
       "Cacaulândia                   10\n",
       "Mirante da Serra               9\n",
       "Rio Crespo                     9\n",
       "Theobroma                      8\n",
       "Itapuã do Oeste                8\n",
       "Santa Luzia D'Oeste            7\n",
       "Nova União                     7\n",
       "Pimenteiras do Oeste           6\n",
       "Cabixi                         6\n",
       "Parecis                        6\n",
       "Ministro Andreazza             6\n",
       "Primavera de Rondônia          5\n",
       "Novo Horizonte do Oeste        5\n",
       "São Felipe D'Oeste             5\n",
       "Castanheiras                   4\n",
       "Teixeirópolis                  3\n",
       "Name: munResNome, dtype: int64"
      ]
     },
     "execution_count": 96,
     "metadata": {},
     "output_type": "execute_result"
    }
   ],
   "source": [
    "mun_maior_nasc_2.munResNome.value_counts()"
   ]
  },
  {
   "cell_type": "code",
   "execution_count": 97,
   "metadata": {},
   "outputs": [
    {
     "data": {
      "text/html": [
       "<div>\n",
       "<style scoped>\n",
       "    .dataframe tbody tr th:only-of-type {\n",
       "        vertical-align: middle;\n",
       "    }\n",
       "\n",
       "    .dataframe tbody tr th {\n",
       "        vertical-align: top;\n",
       "    }\n",
       "\n",
       "    .dataframe thead tr th {\n",
       "        text-align: left;\n",
       "    }\n",
       "\n",
       "    .dataframe thead tr:last-of-type th {\n",
       "        text-align: right;\n",
       "    }\n",
       "</style>\n",
       "<table border=\"1\" class=\"dataframe\">\n",
       "  <thead>\n",
       "    <tr>\n",
       "      <th></th>\n",
       "      <th colspan=\"3\" halign=\"left\">QTDFILVIVO</th>\n",
       "      <th colspan=\"3\" halign=\"left\">IDADEMAE</th>\n",
       "      <th colspan=\"3\" halign=\"left\">IDADEPAI</th>\n",
       "      <th colspan=\"3\" halign=\"left\">DTNASC</th>\n",
       "    </tr>\n",
       "    <tr>\n",
       "      <th></th>\n",
       "      <th>mean</th>\n",
       "      <th>min</th>\n",
       "      <th>max</th>\n",
       "      <th>mean</th>\n",
       "      <th>min</th>\n",
       "      <th>max</th>\n",
       "      <th>mean</th>\n",
       "      <th>min</th>\n",
       "      <th>max</th>\n",
       "      <th>mean</th>\n",
       "      <th>min</th>\n",
       "      <th>max</th>\n",
       "    </tr>\n",
       "    <tr>\n",
       "      <th>munResNome</th>\n",
       "      <th></th>\n",
       "      <th></th>\n",
       "      <th></th>\n",
       "      <th></th>\n",
       "      <th></th>\n",
       "      <th></th>\n",
       "      <th></th>\n",
       "      <th></th>\n",
       "      <th></th>\n",
       "      <th></th>\n",
       "      <th></th>\n",
       "      <th></th>\n",
       "    </tr>\n",
       "  </thead>\n",
       "  <tbody>\n",
       "    <tr>\n",
       "      <th>Porto Velho</th>\n",
       "      <td>1.295056</td>\n",
       "      <td>0.0</td>\n",
       "      <td>9.0</td>\n",
       "      <td>26.596774</td>\n",
       "      <td>14</td>\n",
       "      <td>44</td>\n",
       "      <td>34.629032</td>\n",
       "      <td>19.0</td>\n",
       "      <td>62.0</td>\n",
       "      <td>2019-03-15 20:38:42.580645120</td>\n",
       "      <td>2019-03-01</td>\n",
       "      <td>2019-03-31</td>\n",
       "    </tr>\n",
       "  </tbody>\n",
       "</table>\n",
       "</div>"
      ],
      "text/plain": [
       "            QTDFILVIVO             IDADEMAE           IDADEPAI              \\\n",
       "                  mean  min  max       mean min max       mean   min   max   \n",
       "munResNome                                                                   \n",
       "Porto Velho   1.295056  0.0  9.0  26.596774  14  44  34.629032  19.0  62.0   \n",
       "\n",
       "                                   DTNASC                        \n",
       "                                     mean        min        max  \n",
       "munResNome                                                       \n",
       "Porto Velho 2019-03-15 20:38:42.580645120 2019-03-01 2019-03-31  "
      ]
     },
     "execution_count": 97,
     "metadata": {},
     "output_type": "execute_result"
    }
   ],
   "source": [
    "#Calcula as estatísticas agregadas (média, mínimo e máximo) para cada coluna numérica\n",
    "mun_maior_nasc_3 = mun_maior_nasc_2[mun_maior_nasc_2['munResNome'] == 'Porto Velho'].groupby('munResNome').aggregate(['mean', 'min', 'max'])\n",
    "mun_maior_nasc_3"
   ]
  },
  {
   "cell_type": "markdown",
   "metadata": {},
   "source": [
    "### Analise as respostas encontradas, tire algum insight delas, conte pra gente algo encontrado nos dados. Algo que você julgue relevante e novo pra você."
   ]
  },
  {
   "cell_type": "markdown",
   "metadata": {},
   "source": [
    "## Insight 1"
   ]
  },
  {
   "cell_type": "code",
   "execution_count": 100,
   "metadata": {},
   "outputs": [
    {
     "data": {
      "text/plain": [
       "Text(0.5, 0, 'Municípios')"
      ]
     },
     "execution_count": 100,
     "metadata": {},
     "output_type": "execute_result"
    },
    {
     "data": {
      "image/png": "[encoded data removed]",
      "text/plain": [
       "<Figure size 1500x500 with 1 Axes>"
      ]
     },
     "metadata": {},
     "output_type": "display_data"
    }
   ],
   "source": [
    "sinasc_3.groupby('munResNome').mean().plot(figsize=[15,5]);\n",
    "plt.title('Idade do Pai e da Mãe x Municípios')\n",
    "plt.ylabel('Idade')\n",
    "plt.xlabel('Municípios')"
   ]
  },
  {
   "cell_type": "markdown",
   "metadata": {},
   "source": [
    ". Observamos que a idade média dos pais é maior do que da idade média das mães, sendo somente ao contrário no múnicipio de nova Mamoré ."
   ]
  },
  {
   "cell_type": "markdown",
   "metadata": {},
   "source": [
    "## Insight 2"
   ]
  },
  {
   "cell_type": "code",
   "execution_count": 102,
   "metadata": {},
   "outputs": [
    {
     "data": {
      "image/png": "[encoded data removed]",
      "text/plain": [
       "<Figure size 2000x500 with 1 Axes>"
      ]
     },
     "metadata": {},
     "output_type": "display_data"
    }
   ],
   "source": [
    "peso_aniversario.groupby(['ESCMAE'])['PESO'].mean().sort_values().plot(figsize=[20,5]);"
   ]
  },
  {
   "cell_type": "code",
   "execution_count": 101,
   "metadata": {},
   "outputs": [
    {
     "data": {
      "text/plain": [
       "Text(0, 0.5, 'Peso')"
      ]
     },
     "execution_count": 101,
     "metadata": {},
     "output_type": "execute_result"
    },
    {
     "data": {
      "image/png": "[encoded data removed]",
      "text/plain": [
       "<Figure size 1500x500 with 1 Axes>"
      ]
     },
     "metadata": {},
     "output_type": "display_data"
    }
   ],
   "source": [
    "peso_aniversario.groupby(['ESCMAE', 'SEXO'])['PESO'].mean().unstack().plot(figsize=[15,5]);\n",
    "plt.title('Escolaridade da Mãe x Peso dos bebês por sexo')\n",
    "plt.ylabel('Peso')"
   ]
  },
  {
   "cell_type": "markdown",
   "metadata": {},
   "source": [
    ". Podemos obsevar que os bebês do sexo masculino possuem uma tendência de nascer mais pesados do que os do sexo feminino\n",
    ". Obsevamos também que quanto menor o grau de escolaridade da mãe, menor é o peso de nascimento do bebê."
   ]
  },
  {
   "cell_type": "markdown",
   "metadata": {},
   "source": [
    "## insight 3"
   ]
  },
  {
   "cell_type": "code",
   "execution_count": 103,
   "metadata": {},
   "outputs": [
    {
     "data": {
      "text/plain": [
       "(array([0, 1, 2, 3, 4, 5]),\n",
       " [Text(0, 0, '37 a 41 semanas'),\n",
       "  Text(1, 0, '42 semanas e mais'),\n",
       "  Text(2, 0, '32 a 36 semanas'),\n",
       "  Text(3, 0, '22 a 27 semanas'),\n",
       "  Text(4, 0, '28 a 31 semanas'),\n",
       "  Text(5, 0, 'Menos de 22 semanas')])"
      ]
     },
     "execution_count": 103,
     "metadata": {},
     "output_type": "execute_result"
    },
    {
     "data": {
      "image/png": "[encoded data removed]",
      "text/plain": [
       "<Figure size 719.125x600 with 1 Axes>"
      ]
     },
     "metadata": {},
     "output_type": "display_data"
    }
   ],
   "source": [
    "sns.catplot(\n",
    "    data = sinasc_raw,\n",
    "    kind = 'bar',\n",
    "    x = 'GESTACAO',\n",
    "    y = \"QTDFILMORT\",\n",
    "    hue = 'SEXO',\n",
    "    palette = 'hls',\n",
    "    height = 6,\n",
    "    ci = None\n",
    ")\n",
    "plt.xticks(rotation=45)"
   ]
  },
  {
   "cell_type": "markdown",
   "metadata": {},
   "source": [
    ". O maior número de filhos mortos ocorre entre 22 a 27 semanas de gestação e são os bebês do sexo feminino."
   ]
  }
 ],
 "metadata": {
  "kernelspec": {
   "display_name": "Python 3 (ipykernel)",
   "language": "python",
   "name": "python3"
  },
  "language_info": {
   "codemirror_mode": {
    "name": "ipython",
    "version": 3
   },
   "file_extension": ".py",
   "mimetype": "text/x-python",
   "name": "python",
   "nbconvert_exporter": "python",
   "pygments_lexer": "ipython3",
   "version": "3.9.13"
  },
  "varInspector": {
   "cols": {
    "lenName": 16,
    "lenType": 16,
    "lenVar": 40
   },
   "kernels_config": {
    "python": {
     "delete_cmd_postfix": "",
     "delete_cmd_prefix": "del ",
     "library": "var_list.py",
     "varRefreshCmd": "print(var_dic_list())"
    },
    "r": {
     "delete_cmd_postfix": ") ",
     "delete_cmd_prefix": "rm(",
     "library": "var_list.r",
     "varRefreshCmd": "cat(var_dic_list()) "
    }
   },
   "types_to_exclude": [
    "module",
    "function",
    "builtin_function_or_method",
    "instance",
    "_Feature"
   ],
   "window_display": false
  }
 },
 "nbformat": 4,
 "nbformat_minor": 4
}
